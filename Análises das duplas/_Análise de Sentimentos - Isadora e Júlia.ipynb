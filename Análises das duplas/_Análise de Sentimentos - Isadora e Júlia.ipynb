{
 "cells": [
  {
   "cell_type": "markdown",
   "metadata": {},
   "source": [
    "# Twitter Setiment Analysis "
   ]
  },
  {
   "cell_type": "markdown",
   "metadata": {},
   "source": [
    "### Imports"
   ]
  },
  {
   "cell_type": "code",
   "execution_count": 1,
   "metadata": {},
   "outputs": [],
   "source": [
    "# Basic Imports\n",
    "import tweepy\n",
    "import pandas as pd     \n",
    "import numpy as np \n",
    "import time\n",
    "import os\n",
    "import re\n",
    "\n",
    "# Plotting and Visualization\n",
    "from IPython.display import display\n",
    "import matplotlib.pyplot as plt\n",
    "import seaborn as sns\n",
    "from wordcloud import WordCloud, ImageColorGenerator, STOPWORDS\n",
    "%matplotlib inline\n",
    "\n",
    "# TextBlob Imports\n",
    "from textblob import TextBlob\n",
    "from textblob import TextBlob\n",
    "from textblob.classifiers import NaiveBayesClassifier\n",
    "\n",
    "# NLTK Imports\n",
    "import nltk\n",
    "from sklearn.feature_extraction.text import CountVectorizer\n",
    "from sklearn.naive_bayes import MultinomialNB\n",
    "\n",
    "#MAP\n",
    "from geopy.geocoders import Nominatim\n",
    "import folium\n",
    "from folium import plugins\n",
    "from geopy.geocoders import Nominatim"
   ]
  },
  {
   "cell_type": "markdown",
   "metadata": {},
   "source": [
    "### Twitter Autentication Keys"
   ]
  },
  {
   "cell_type": "code",
   "execution_count": 2,
   "metadata": {},
   "outputs": [],
   "source": [
    "#Keys for autentication\n",
    "consumer_key='TZ4vEqyiRbYVtm4vx71lI8eAP'\n",
    "consumer_secret='mtD7gxLQCj96YYBBUbGxYdYogbbMLwQG1mSGQkHpeJZEKfkLu2'\n",
    "\n",
    "access_token='859751370798379009-h4k3AsrvfxBSLBX0kowYjz42zPCJw9t'\n",
    "access_token_secret='4jsA9noFsVhBnleJqYnd3DyILKpzHh8Xt9iex4ZFE4bMQ'"
   ]
  },
  {
   "cell_type": "markdown",
   "metadata": {},
   "source": [
    "### Twitter Autentication"
   ]
  },
  {
   "cell_type": "code",
   "execution_count": 3,
   "metadata": {},
   "outputs": [],
   "source": [
    "#Autentication Methods\n",
    "auth = tweepy.OAuthHandler(consumer_key,consumer_secret)\n",
    "auth.set_access_token(access_token,access_token_secret)\n",
    "api = tweepy.API(auth)"
   ]
  },
  {
   "cell_type": "markdown",
   "metadata": {},
   "source": [
    "### Searching for Tweets"
   ]
  },
  {
   "cell_type": "code",
   "execution_count": 4,
   "metadata": {},
   "outputs": [],
   "source": [
    "#Searchin Twitter Timelines\n",
    "tweets = []\n",
    "info = []\n",
    "\n",
    "for tweet in tweepy.Cursor(api.search,\n",
    "                           q=\"corona OR covid OR coronavírus OR covid19 OR covid-19 OR sars\",\n",
    "                           tweet_mode='extended',\n",
    "                           rpp=100,\n",
    "                           result_type=\"popular\",\n",
    "                           include_entities=True,\n",
    "                           lang=\"pt\").items(20000000):\n",
    "    if 'retweeted_status' in dir(tweet):\n",
    "        aux=tweet.retweeted_status.full_text\n",
    "    else:\n",
    "        aux=tweet.full_text\n",
    "        \n",
    "    newtweet = aux.replace(\"\\n\", \" \")\n",
    "   \n",
    "    tweets.append(newtweet)\n",
    "    info.append(tweet)\n",
    "    \n",
    "    file = open(\"covid.txt\", \"a\", -1, \"utf-8\")\n",
    "    file.write(newtweet+'\\n')\n",
    "    file.close()\n",
    "    \n",
    "    time.sleep(0.5)"
   ]
  },
  {
   "cell_type": "markdown",
   "metadata": {},
   "source": [
    "### Creating the dataframe "
   ]
  },
  {
   "cell_type": "code",
   "execution_count": 5,
   "metadata": {},
   "outputs": [],
   "source": [
    "#Construction of the dataframe\n",
    "tweets_df = pd.DataFrame(tweets, columns=['Tweets']) \n",
    "\n",
    "tweets_df['len']  = np.array([len(tweet) for tweet in tweets])\n",
    "tweets_df['ID']   = np.array([tweet.id for tweet in info])\n",
    "tweets_df['Date'] = np.array([tweet.created_at for tweet in info])\n",
    "tweets_df['Source'] = np.array([tweet.source for tweet in info])\n",
    "tweets_df['Likes']  = np.array([tweet.favorite_count for tweet in info])\n",
    "tweets_df['RTs']    = np.array([tweet.retweet_count for tweet in info])\n",
    "tweets_df['User Location']    = np.array([tweet.user.location for tweet in info])\n",
    "tweets_df['Geo']    = np.array([tweet.geo for tweet in info])\n",
    "tweets_df['Coordinates']    = np.array([tweet.coordinates for tweet in info])\n",
    "\n",
    "tweets_df.to_csv(\"covid.csv\")"
   ]
  },
  {
   "cell_type": "code",
   "execution_count": 6,
   "metadata": {},
   "outputs": [
    {
     "data": {
      "text/html": [
       "<div>\n",
       "<style scoped>\n",
       "    .dataframe tbody tr th:only-of-type {\n",
       "        vertical-align: middle;\n",
       "    }\n",
       "\n",
       "    .dataframe tbody tr th {\n",
       "        vertical-align: top;\n",
       "    }\n",
       "\n",
       "    .dataframe thead th {\n",
       "        text-align: right;\n",
       "    }\n",
       "</style>\n",
       "<table border=\"1\" class=\"dataframe\">\n",
       "  <thead>\n",
       "    <tr style=\"text-align: right;\">\n",
       "      <th></th>\n",
       "      <th>Tweets</th>\n",
       "      <th>len</th>\n",
       "      <th>ID</th>\n",
       "      <th>Date</th>\n",
       "      <th>Source</th>\n",
       "      <th>Likes</th>\n",
       "      <th>RTs</th>\n",
       "      <th>User Location</th>\n",
       "      <th>Geo</th>\n",
       "      <th>Coordinates</th>\n",
       "    </tr>\n",
       "  </thead>\n",
       "  <tbody>\n",
       "    <tr>\n",
       "      <th>0</th>\n",
       "      <td>Ainda bem que não é no Leblon né? Vai que o pe...</td>\n",
       "      <td>92</td>\n",
       "      <td>1281991325605396480</td>\n",
       "      <td>2020-07-11 16:38:44</td>\n",
       "      <td>Twitter for iPhone</td>\n",
       "      <td>21307</td>\n",
       "      <td>4435</td>\n",
       "      <td>São Paulo - SP</td>\n",
       "      <td>None</td>\n",
       "      <td>None</td>\n",
       "    </tr>\n",
       "    <tr>\n",
       "      <th>1</th>\n",
       "      <td>oi galera linda ❤️ então, assunto sério como a...</td>\n",
       "      <td>270</td>\n",
       "      <td>1281902029380739072</td>\n",
       "      <td>2020-07-11 10:43:55</td>\n",
       "      <td>Twitter for Android</td>\n",
       "      <td>5759</td>\n",
       "      <td>3101</td>\n",
       "      <td>picpay:</td>\n",
       "      <td>None</td>\n",
       "      <td>None</td>\n",
       "    </tr>\n",
       "    <tr>\n",
       "      <th>2</th>\n",
       "      <td>ninguém que esteve com bolsonaro nos últimos d...</td>\n",
       "      <td>210</td>\n",
       "      <td>1282097535843262466</td>\n",
       "      <td>2020-07-11 23:40:47</td>\n",
       "      <td>Twitter for Android</td>\n",
       "      <td>27167</td>\n",
       "      <td>3972</td>\n",
       "      <td>São Paulo</td>\n",
       "      <td>None</td>\n",
       "      <td>None</td>\n",
       "    </tr>\n",
       "    <tr>\n",
       "      <th>3</th>\n",
       "      <td>Minha solidariedade à Dra. Nise Yamaguchi, sus...</td>\n",
       "      <td>280</td>\n",
       "      <td>1281969825611501568</td>\n",
       "      <td>2020-07-11 15:13:18</td>\n",
       "      <td>Twitter for Android</td>\n",
       "      <td>19463</td>\n",
       "      <td>3884</td>\n",
       "      <td>Rio de Janeiro, Brasil</td>\n",
       "      <td>None</td>\n",
       "      <td>None</td>\n",
       "    </tr>\n",
       "    <tr>\n",
       "      <th>4</th>\n",
       "      <td>Sirius, o maior acelerador de partículas do Br...</td>\n",
       "      <td>147</td>\n",
       "      <td>1282273498673668098</td>\n",
       "      <td>2020-07-12 11:20:00</td>\n",
       "      <td>TweetDeck</td>\n",
       "      <td>20903</td>\n",
       "      <td>2201</td>\n",
       "      <td>Brasil</td>\n",
       "      <td>None</td>\n",
       "      <td>None</td>\n",
       "    </tr>\n",
       "  </tbody>\n",
       "</table>\n",
       "</div>"
      ],
      "text/plain": [
       "                                              Tweets  len  \\\n",
       "0  Ainda bem que não é no Leblon né? Vai que o pe...   92   \n",
       "1  oi galera linda ❤️ então, assunto sério como a...  270   \n",
       "2  ninguém que esteve com bolsonaro nos últimos d...  210   \n",
       "3  Minha solidariedade à Dra. Nise Yamaguchi, sus...  280   \n",
       "4  Sirius, o maior acelerador de partículas do Br...  147   \n",
       "\n",
       "                    ID                Date               Source  Likes   RTs  \\\n",
       "0  1281991325605396480 2020-07-11 16:38:44   Twitter for iPhone  21307  4435   \n",
       "1  1281902029380739072 2020-07-11 10:43:55  Twitter for Android   5759  3101   \n",
       "2  1282097535843262466 2020-07-11 23:40:47  Twitter for Android  27167  3972   \n",
       "3  1281969825611501568 2020-07-11 15:13:18  Twitter for Android  19463  3884   \n",
       "4  1282273498673668098 2020-07-12 11:20:00            TweetDeck  20903  2201   \n",
       "\n",
       "            User Location   Geo Coordinates  \n",
       "0          São Paulo - SP  None        None  \n",
       "1                 picpay:  None        None  \n",
       "2               São Paulo  None        None  \n",
       "3  Rio de Janeiro, Brasil  None        None  \n",
       "4                  Brasil  None        None  "
      ]
     },
     "execution_count": 6,
     "metadata": {},
     "output_type": "execute_result"
    }
   ],
   "source": [
    "tweets_df.head()"
   ]
  },
  {
   "cell_type": "markdown",
   "metadata": {},
   "source": [
    "### Top Tweets"
   ]
  },
  {
   "cell_type": "code",
   "execution_count": 7,
   "metadata": {},
   "outputs": [
    {
     "name": "stdout",
     "output_type": "stream",
     "text": [
      "O tweet com mais curtidas é: \n",
      "10 pila que o bolsonaro vai dizer que teve COVID e se curou com cloroquina + remédio pra piolho QUEM VAI\n",
      "Número de curtidas: 130726\n",
      "\n",
      "\n",
      "O tweet com mais retweet é: \n",
      "Talvez o presidente do seu país esteja com Covid-19  O país: https://t.co/tukDwPCPOz\n",
      "Número de retweets: 34829\n"
     ]
    }
   ],
   "source": [
    "# Top Searched Tweets\n",
    "fav_max = np.max(tweets_df['Likes'])\n",
    "rt_max  = np.max(tweets_df['RTs'])\n",
    "\n",
    "fav = tweets_df[tweets_df.Likes == fav_max].index[0]\n",
    "rt  = tweets_df[tweets_df.RTs == rt_max].index[0]\n",
    "\n",
    "# Max FAVs:\n",
    "print(\"O tweet com mais curtidas é: \\n{}\".format(tweets_df['Tweets'][fav]))\n",
    "print(\"Número de curtidas: {}\".format(fav_max))\n",
    "print(\"\\n\")\n",
    "# Max RTs:\n",
    "print(\"O tweet com mais retweet é: \\n{}\".format(tweets_df['Tweets'][rt]))\n",
    "print(\"Número de retweets: {}\".format(rt_max))"
   ]
  },
  {
   "cell_type": "markdown",
   "metadata": {},
   "source": [
    "### Source of Tweets"
   ]
  },
  {
   "cell_type": "code",
   "execution_count": 8,
   "metadata": {},
   "outputs": [],
   "source": [
    "#Source of the Tweets\n",
    "sources = []\n",
    "for source in tweets_df['Source']:\n",
    "    if source not in sources:\n",
    "        sources.append(source)\n",
    "\n",
    "percent = np.zeros(len(sources))\n",
    "\n",
    "for source in tweets_df['Source']:\n",
    "    for index in range(len(sources)):\n",
    "        if source == sources[index]:\n",
    "            percent[index] += 1\n",
    "            pass"
   ]
  },
  {
   "cell_type": "code",
   "execution_count": 9,
   "metadata": {},
   "outputs": [
    {
     "data": {
      "image/png": "[encoded data removed]",
      "text/plain": [
       "<Figure size 432x288 with 1 Axes>"
      ]
     },
     "metadata": {
      "needs_background": "light"
     },
     "output_type": "display_data"
    }
   ],
   "source": [
    "newDF = pd.DataFrame({\n",
    " 'source':percent,\n",
    "}, index=sources)\n",
    "\n",
    "sources_sorted = newDF.sort_values('source',ascending=False)\n",
    "ax = sources_sorted.source.plot(kind='barh',color='#002060')\n",
    "ax.get_xaxis().set_major_formatter(plt.FuncFormatter(lambda x, loc: \"{:,}\".format(int(x))))"
   ]
  },
  {
   "cell_type": "markdown",
   "metadata": {},
   "source": [
    "### Training Model"
   ]
  },
  {
   "cell_type": "code",
   "execution_count": 10,
   "metadata": {},
   "outputs": [],
   "source": [
    "#Sentiment Analysis in Português and English\n",
    "\n",
    "base_path = 'ReLi-Lex/'\n",
    "train = []\n",
    "wordsPT = []\n",
    "wordsPT_sentiments = []\n",
    "\n",
    "files = [os.path.join(base_path, f) for f in os.listdir(base_path)]\n",
    "\n",
    "for file in files:\n",
    "    t = 1 if '_Positivos' in file else -1\n",
    "    with open(file, 'r', encoding='latin-1') as content_file:\n",
    "        content = content_file.read()\n",
    "        all = re.findall('\\[.*?\\]',content)\n",
    "        for w in all:\n",
    "            wordsPT.append((w[1:-1]))\n",
    "            wordsPT_sentiments.append(t)\n",
    "            train.append((w[1:-1], t))\n",
    "\n",
    "cl = NaiveBayesClassifier(train)"
   ]
  },
  {
   "cell_type": "code",
   "execution_count": 11,
   "metadata": {},
   "outputs": [],
   "source": [
    "def clean_tweet(tweet):\n",
    "    return ' '.join(re.sub(\"(@[A-Za-z0-9]+)|([^0-9A-Za-z \\t])|(\\w+:\\/\\/\\S+)\", \" \", tweet).split())"
   ]
  },
  {
   "cell_type": "markdown",
   "metadata": {},
   "source": [
    "### Sentiment Analysis with TextBlob"
   ]
  },
  {
   "cell_type": "code",
   "execution_count": 12,
   "metadata": {},
   "outputs": [],
   "source": [
    "def sentiment(tweet):\n",
    "    \n",
    "    polarity = 0\n",
    "    \n",
    "    #blob = TextBlob(tweet, classifier=cl)\n",
    "    blob = TextBlob(clean_tweet(tweet), classifier=cl) #Clean Tweets\n",
    "    \n",
    "    for s in blob.sentences:\n",
    "        polarity = s.classify() + polarity\n",
    "    \n",
    "    if polarity > 0:\n",
    "        return 1\n",
    "    elif polarity < 0:\n",
    "        return -1\n",
    "    else:\n",
    "        return 0"
   ]
  },
  {
   "cell_type": "code",
   "execution_count": 13,
   "metadata": {},
   "outputs": [],
   "source": [
    "def analize_sentimentEN(tweet):\n",
    "    \n",
    "    analysis = TextBlob(tweet)\n",
    "    \n",
    "    if analysis.detect_language() != 'en':\n",
    "        analysis = TextBlob(str(analysis.translate(to='en')))\n",
    "        time.sleep(0.5)    \n",
    "        \n",
    "    if analysis.sentiment.polarity > 0:\n",
    "        return 1\n",
    "    elif analysis.sentiment.polarity == 0:\n",
    "        return 0\n",
    "    else:\n",
    "        return -1"
   ]
  },
  {
   "cell_type": "code",
   "execution_count": 14,
   "metadata": {},
   "outputs": [],
   "source": [
    "#tweets_df['SA'] = np.array([ analize_sentimentEN(tweet) for tweet in tweets_df['Tweet'] ]) #English Dictionary"
   ]
  },
  {
   "cell_type": "code",
   "execution_count": 15,
   "metadata": {},
   "outputs": [],
   "source": [
    "tweets_df['SA TextBlob'] = np.array([ sentiment(tweet) for tweet in tweets_df['Tweets'] ]) #Portuguese Dictionary"
   ]
  },
  {
   "cell_type": "markdown",
   "metadata": {},
   "source": [
    "### Results of Sentiment Analysis"
   ]
  },
  {
   "cell_type": "code",
   "execution_count": 16,
   "metadata": {},
   "outputs": [],
   "source": [
    "#Sentiment Analysis Results\n",
    "pos_tweets = [ tweet for index, tweet in enumerate(tweets_df['Tweets']) if tweets_df['SA TextBlob'][index] > 0]\n",
    "neg_tweets = [ tweet for index, tweet in enumerate(tweets_df['Tweets']) if tweets_df['SA TextBlob'][index] < 0]"
   ]
  },
  {
   "cell_type": "code",
   "execution_count": 17,
   "metadata": {},
   "outputs": [
    {
     "name": "stdout",
     "output_type": "stream",
     "text": [
      "Porcentagem de Tweets Positivos: 78.46153846153847%\n",
      "Porcentagem de Tweets Negativos: 21.53846153846154%\n"
     ]
    }
   ],
   "source": [
    "print(\"Porcentagem de Tweets Positivos: {}%\".format(len(pos_tweets)*100/len(tweets_df['Tweets'])))\n",
    "print(\"Porcentagem de Tweets Negativos: {}%\".format(len(neg_tweets)*100/len(tweets_df['Tweets'])))"
   ]
  },
  {
   "cell_type": "code",
   "execution_count": 18,
   "metadata": {},
   "outputs": [],
   "source": [
    "sentiments = ['Positivos', 'Negativos']\n",
    "percents = [len(pos_tweets), len(neg_tweets)]"
   ]
  },
  {
   "cell_type": "code",
   "execution_count": 19,
   "metadata": {},
   "outputs": [
    {
     "data": {
      "image/png": "[encoded data removed]",
      "text/plain": [
       "<Figure size 432x432 with 1 Axes>"
      ]
     },
     "metadata": {},
     "output_type": "display_data"
    }
   ],
   "source": [
    "pie_chart = pd.Series(percents, index=sentiments, name='Sentimentos')\n",
    "pie_chart.plot.pie(fontsize=11, autopct='%.2f', figsize=(6, 6));"
   ]
  },
  {
   "cell_type": "markdown",
   "metadata": {},
   "source": [
    "### Word Cloud"
   ]
  },
  {
   "cell_type": "code",
   "execution_count": 20,
   "metadata": {},
   "outputs": [],
   "source": [
    "stopwords= set(STOPWORDS)\n",
    "\n",
    "new_words = []\n",
    "with open(\"stopwords_portuguese.txt\", 'r') as f:\n",
    "    [new_words.append(word) for line in f for word in line.split()]\n",
    "\n",
    "new_stopwords = stopwords.union(new_words)"
   ]
  },
  {
   "cell_type": "code",
   "execution_count": 21,
   "metadata": {},
   "outputs": [],
   "source": [
    "words = ' '.join(tweets_df['Tweets'])\n",
    "\n",
    "words_clean = \" \".join([word for word in words.split()\n",
    "                            if 'https' not in word\n",
    "                                and not word.startswith('@')\n",
    "                                and word != 'RT'\n",
    "                            ])"
   ]
  },
  {
   "cell_type": "code",
   "execution_count": 22,
   "metadata": {},
   "outputs": [
    {
     "data": {
      "image/png": "[encoded data removed]",
      "text/plain": [
       "<Figure size 432x288 with 1 Axes>"
      ]
     },
     "metadata": {
      "needs_background": "light"
     },
     "output_type": "display_data"
    }
   ],
   "source": [
    "from imageio import imread\n",
    "import warnings\n",
    "\n",
    "warnings.simplefilter('ignore')\n",
    "\n",
    "twitter_mask = imread(\"brazil_mask.png\")\n",
    "\n",
    "wc = WordCloud(min_font_size=10, \n",
    "               max_font_size=300, \n",
    "               background_color='white', \n",
    "               mode=\"RGB\",\n",
    "               stopwords=new_stopwords,\n",
    "               width=2000, \n",
    "               height=1000,\n",
    "               mask=twitter_mask,\n",
    "               normalize_plurals= True).generate(words_clean)\n",
    "\n",
    "plt.imshow(wc, interpolation=\"bilinear\")\n",
    "plt.axis(\"off\")\n",
    "plt.savefig('covid.png', dpi=300)\n",
    "plt.show()"
   ]
  },
  {
   "cell_type": "markdown",
   "metadata": {},
   "source": [
    "### Time Series"
   ]
  },
  {
   "cell_type": "code",
   "execution_count": 23,
   "metadata": {},
   "outputs": [
    {
     "data": {
      "image/png": "[encoded data removed]",
      "text/plain": [
       "<Figure size 1152x288 with 1 Axes>"
      ]
     },
     "metadata": {
      "needs_background": "light"
     },
     "output_type": "display_data"
    }
   ],
   "source": [
    "#Tweets per Day\n",
    "data = tweets_df\n",
    "\n",
    "data['Date'] = pd.to_datetime(data['Date']).apply(lambda x: x.date())\n",
    "\n",
    "tlen = pd.Series(data['Date'].value_counts(), index=data['Date'])\n",
    "tlen.plot(figsize=(16,4), color='r');"
   ]
  },
  {
   "cell_type": "markdown",
   "metadata": {},
   "source": [
    "# Twitter Setiments Analisys with NLTK"
   ]
  },
  {
   "cell_type": "markdown",
   "metadata": {},
   "source": [
    "### Training Model"
   ]
  },
  {
   "cell_type": "code",
   "execution_count": 24,
   "metadata": {},
   "outputs": [],
   "source": [
    "vectorizer = CountVectorizer(analyzer=\"word\")\n",
    "freq_tweets = vectorizer.fit_transform(wordsPT)\n",
    "modelo = MultinomialNB()\n",
    "modelo.fit(freq_tweets,wordsPT_sentiments);"
   ]
  },
  {
   "cell_type": "markdown",
   "metadata": {},
   "source": [
    "### Sentiment Analisys"
   ]
  },
  {
   "cell_type": "code",
   "execution_count": 25,
   "metadata": {},
   "outputs": [],
   "source": [
    "tweetsarray = []\n",
    "\n",
    "for tw in tweets_df['Tweets']:\n",
    "    text = clean_tweet(tw)\n",
    "    tweetsarray.append(text)"
   ]
  },
  {
   "cell_type": "code",
   "execution_count": 26,
   "metadata": {},
   "outputs": [],
   "source": [
    "predictionData = vectorizer.transform(tweets_df['Tweets'])\n",
    "tweets_df['SA NLTK'] = modelo.predict(predictionData)"
   ]
  },
  {
   "cell_type": "markdown",
   "metadata": {},
   "source": [
    "### Results of Sentiment Analysis"
   ]
  },
  {
   "cell_type": "code",
   "execution_count": 27,
   "metadata": {},
   "outputs": [],
   "source": [
    "#Sentiment Analysis Results\n",
    "pos_tweets = [ tweet for index, tweet in enumerate(tweets_df['Tweets']) if tweets_df['SA NLTK'][index] > 0]\n",
    "neg_tweets = [ tweet for index, tweet in enumerate(tweets_df['Tweets']) if tweets_df['SA NLTK'][index] < 0]"
   ]
  },
  {
   "cell_type": "code",
   "execution_count": 28,
   "metadata": {},
   "outputs": [
    {
     "name": "stdout",
     "output_type": "stream",
     "text": [
      "Porcentagem de Tweets Positivos: 83.07692307692308%\n",
      "Porcentagem de Tweets Negativos: 16.923076923076923%\n"
     ]
    }
   ],
   "source": [
    "print(\"Porcentagem de Tweets Positivos: {}%\".format(len(pos_tweets)*100/len(tweets_df['Tweets'])))\n",
    "print(\"Porcentagem de Tweets Negativos: {}%\".format(len(neg_tweets)*100/len(tweets_df['Tweets'])))"
   ]
  },
  {
   "cell_type": "code",
   "execution_count": 29,
   "metadata": {},
   "outputs": [],
   "source": [
    "sentiments = ['Positivos', 'Negativos']\n",
    "percents = [len(pos_tweets), len(neg_tweets)]"
   ]
  },
  {
   "cell_type": "code",
   "execution_count": 30,
   "metadata": {},
   "outputs": [
    {
     "data": {
      "image/png": "[encoded data removed]",
      "text/plain": [
       "<Figure size 432x432 with 1 Axes>"
      ]
     },
     "metadata": {},
     "output_type": "display_data"
    }
   ],
   "source": [
    "pie_chart = pd.Series(percents, index=sentiments, name='Sentimentos')\n",
    "pie_chart.plot.pie(fontsize=11, autopct='%.2f', figsize=(6, 6));"
   ]
  },
  {
   "cell_type": "markdown",
   "metadata": {},
   "source": [
    "### Map of Tweets"
   ]
  },
  {
   "cell_type": "code",
   "execution_count": 31,
   "metadata": {},
   "outputs": [],
   "source": [
    "geolocator = Nominatim(user_agent=\"TweeterSentiments\")\n",
    "\n",
    "latitude = []\n",
    "longitude = []\n",
    "\n",
    "for user_location in tweets_df['User Location']:\n",
    "    try:\n",
    "        location = geolocator.geocode(user_location)\n",
    "        latitude.append(location.latitude)\n",
    "        longitude.append(location.longitude)\n",
    "    except:\n",
    "        continue"
   ]
  },
  {
   "cell_type": "code",
   "execution_count": 32,
   "metadata": {},
   "outputs": [
    {
     "data": {
      "text/html": [
       "<div style=\"width:100%;\"><div style=\"position:relative;width:100%;height:0;padding-bottom:60%;\"><span style=\"color:#565656\">Make this Notebook Trusted to load map: File -> Trust Notebook</span><iframe src=\"about:blank\" style=\"position:absolute;width:100%;height:100%;left:0;top:0;border:none !important;\" data-html=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 onload=\"this.contentDocument.open();this.contentDocument.write(atob(this.getAttribute('data-html')));this.contentDocument.close();\" allowfullscreen webkitallowfullscreen mozallowfullscreen></iframe></div></div>"
      ],
      "text/plain": [
       "<folium.folium.Map at 0x7fbf5ba18250>"
      ]
     },
     "execution_count": 32,
     "metadata": {},
     "output_type": "execute_result"
    }
   ],
   "source": [
    "coordenadas = np.column_stack((latitude, longitude))\n",
    "\n",
    "mapa = folium.Map(location=[-15.788497,-47.879873],zoom_start=4.)\n",
    "\n",
    "mapa.add_child(plugins.HeatMap(coordenadas))\n",
    "mapa.save('covid.html')\n",
    "mapa"
   ]
  }
 ],
 "metadata": {
  "kernelspec": {
   "display_name": "Python 3",
   "language": "python",
   "name": "python3"
  },
  "language_info": {
   "codemirror_mode": {
    "name": "ipython",
    "version": 3
   },
   "file_extension": ".py",
   "mimetype": "text/x-python",
   "name": "python",
   "nbconvert_exporter": "python",
   "pygments_lexer": "ipython3",
   "version": "3.8.3"
  }
 },
 "nbformat": 4,
 "nbformat_minor": 2
}
