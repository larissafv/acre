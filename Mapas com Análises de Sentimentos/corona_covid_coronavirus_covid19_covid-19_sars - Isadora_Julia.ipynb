{
 "cells": [
  {
   "cell_type": "markdown",
   "metadata": {},
   "source": [
    "##### Tentativa 4"
   ]
  },
  {
   "cell_type": "markdown",
   "metadata": {},
   "source": [
    "### Imports"
   ]
  },
  {
   "cell_type": "code",
   "execution_count": 1,
   "metadata": {},
   "outputs": [],
   "source": [
    "# Basic Imports\n",
    "import tweepy\n",
    "import pandas as pd\n",
    "import geopandas as gpd\n",
    "import numpy as np \n",
    "import time\n",
    "import os\n",
    "import re\n",
    "\n",
    "# Plotting and Visualization\n",
    "from IPython.display import display\n",
    "import matplotlib.pyplot as plt\n",
    "import seaborn as sns\n",
    "from wordcloud import WordCloud, ImageColorGenerator, STOPWORDS\n",
    "%matplotlib inline\n",
    "\n",
    "# TextBlob Imports\n",
    "from textblob import TextBlob\n",
    "from textblob import TextBlob\n",
    "from textblob.classifiers import NaiveBayesClassifier\n",
    "\n",
    "# NLTK Imports\n",
    "import nltk\n",
    "from sklearn.feature_extraction.text import CountVectorizer\n",
    "from sklearn.naive_bayes import MultinomialNB\n",
    "\n",
    "#MAP\n",
    "from geopy.geocoders import Nominatim\n",
    "import folium\n",
    "from folium import plugins\n",
    "from geopy.geocoders import Nominatim"
   ]
  },
  {
   "cell_type": "markdown",
   "metadata": {},
   "source": [
    "### Chaves de autenticação"
   ]
  },
  {
   "cell_type": "code",
   "execution_count": 2,
   "metadata": {},
   "outputs": [],
   "source": [
    "#Keys for autentication\n",
    "consumer_key='TZ4vEqyiRbYVtm4vx71lI8eAP'\n",
    "consumer_secret='mtD7gxLQCj96YYBBUbGxYdYogbbMLwQG1mSGQkHpeJZEKfkLu2'\n",
    "\n",
    "access_token='859751370798379009-h4k3AsrvfxBSLBX0kowYjz42zPCJw9t'\n",
    "access_token_secret='4jsA9noFsVhBnleJqYnd3DyILKpzHh8Xt9iex4ZFE4bMQ'"
   ]
  },
  {
   "cell_type": "markdown",
   "metadata": {},
   "source": [
    "### Autenticação Twitter"
   ]
  },
  {
   "cell_type": "code",
   "execution_count": 3,
   "metadata": {},
   "outputs": [],
   "source": [
    "#Autentication Methods\n",
    "auth = tweepy.OAuthHandler(consumer_key,consumer_secret)\n",
    "auth.set_access_token(access_token,access_token_secret)\n",
    "api = tweepy.API(auth)"
   ]
  },
  {
   "cell_type": "markdown",
   "metadata": {},
   "source": [
    "### Procurando Tweets"
   ]
  },
  {
   "cell_type": "code",
   "execution_count": 4,
   "metadata": {},
   "outputs": [],
   "source": [
    "\n",
    "#Searchin Twitter Timelines\n",
    "tweets = []\n",
    "info = []\n",
    "\n",
    "for tweet in tweepy.Cursor(api.search,\n",
    "                           q=\"corona OR covid OR coronavírus OR covid19 OR covid-19 OR sars\",\n",
    "                           tweet_mode='extended',\n",
    "                           rpp=100,\n",
    "                           result_type=\"popular\",\n",
    "                           include_entities=True,\n",
    "                           lang=\"pt\").items(20000000):\n",
    "    if 'retweeted_status' in dir(tweet):\n",
    "        aux=tweet.retweeted_status.full_text\n",
    "    else:\n",
    "        aux=tweet.full_text\n",
    "        \n",
    "    newtweet = aux.replace(\"\\n\", \" \")\n",
    "   \n",
    "    tweets.append(newtweet)\n",
    "    info.append(tweet)\n",
    "    \n",
    "    file = open(\"covid.txt\", \"a\", -1, \"utf-8\")\n",
    "    file.write(newtweet+'\\n')\n",
    "    file.close()\n",
    "    \n",
    "    time.sleep(0.5)"
   ]
  },
  {
   "cell_type": "markdown",
   "metadata": {},
   "source": [
    "### Criando o dataframe"
   ]
  },
  {
   "cell_type": "code",
   "execution_count": 5,
   "metadata": {},
   "outputs": [],
   "source": [
    "#Construction of the dataframe\n",
    "tweets_df = pd.DataFrame(tweets, columns=['Tweets']) \n",
    "\n",
    "tweets_df['len']  = np.array([len(tweet) for tweet in tweets])\n",
    "tweets_df['ID']   = np.array([tweet.id for tweet in info])\n",
    "tweets_df['Date'] = np.array([tweet.created_at for tweet in info])\n",
    "tweets_df['Source'] = np.array([tweet.source for tweet in info])\n",
    "tweets_df['Likes']  = np.array([tweet.favorite_count for tweet in info])\n",
    "tweets_df['RTs']    = np.array([tweet.retweet_count for tweet in info])\n",
    "tweets_df['User Location']    = np.array([tweet.user.location for tweet in info])\n",
    "tweets_df['Geo']    = np.array([tweet.geo for tweet in info])\n",
    "tweets_df['Coordinates']    = np.array([tweet.coordinates for tweet in info])\n",
    "\n",
    "tweets_df.to_csv(\"covid.csv\")"
   ]
  },
  {
   "cell_type": "code",
   "execution_count": 6,
   "metadata": {},
   "outputs": [
    {
     "data": {
      "text/html": [
       "<div>\n",
       "<style scoped>\n",
       "    .dataframe tbody tr th:only-of-type {\n",
       "        vertical-align: middle;\n",
       "    }\n",
       "\n",
       "    .dataframe tbody tr th {\n",
       "        vertical-align: top;\n",
       "    }\n",
       "\n",
       "    .dataframe thead th {\n",
       "        text-align: right;\n",
       "    }\n",
       "</style>\n",
       "<table border=\"1\" class=\"dataframe\">\n",
       "  <thead>\n",
       "    <tr style=\"text-align: right;\">\n",
       "      <th></th>\n",
       "      <th>Tweets</th>\n",
       "      <th>len</th>\n",
       "      <th>ID</th>\n",
       "      <th>Date</th>\n",
       "      <th>Source</th>\n",
       "      <th>Likes</th>\n",
       "      <th>RTs</th>\n",
       "      <th>User Location</th>\n",
       "      <th>Geo</th>\n",
       "      <th>Coordinates</th>\n",
       "    </tr>\n",
       "  </thead>\n",
       "  <tbody>\n",
       "    <tr>\n",
       "      <th>0</th>\n",
       "      <td>Não faz sentido excluir identificação biométri...</td>\n",
       "      <td>190</td>\n",
       "      <td>1283389477130571776</td>\n",
       "      <td>2020-07-15 13:14:30</td>\n",
       "      <td>Twitter for iPhone</td>\n",
       "      <td>10739</td>\n",
       "      <td>3263</td>\n",
       "      <td>Goiás</td>\n",
       "      <td>None</td>\n",
       "      <td>None</td>\n",
       "    </tr>\n",
       "    <tr>\n",
       "      <th>1</th>\n",
       "      <td>Até aqui, estudamos a imunidade de quem se cur...</td>\n",
       "      <td>261</td>\n",
       "      <td>1283480075975958532</td>\n",
       "      <td>2020-07-15 19:14:30</td>\n",
       "      <td>Twitter Web App</td>\n",
       "      <td>21116</td>\n",
       "      <td>2780</td>\n",
       "      <td>São Paulo</td>\n",
       "      <td>None</td>\n",
       "      <td>None</td>\n",
       "    </tr>\n",
       "    <tr>\n",
       "      <th>2</th>\n",
       "      <td>Entendo a sua revolta, faz todo sentido. Só ca...</td>\n",
       "      <td>284</td>\n",
       "      <td>1283788559846121473</td>\n",
       "      <td>2020-07-16 15:40:18</td>\n",
       "      <td>Tweetbot for Mac</td>\n",
       "      <td>19471</td>\n",
       "      <td>1715</td>\n",
       "      <td>São Paulo</td>\n",
       "      <td>None</td>\n",
       "      <td>None</td>\n",
       "    </tr>\n",
       "    <tr>\n",
       "      <th>3</th>\n",
       "      <td>o coronavirus vendo as pessoa sai sem mascara ...</td>\n",
       "      <td>69</td>\n",
       "      <td>1283591600237617152</td>\n",
       "      <td>2020-07-16 02:37:40</td>\n",
       "      <td>Twitter for iPhone</td>\n",
       "      <td>6805</td>\n",
       "      <td>2016</td>\n",
       "      <td></td>\n",
       "      <td>None</td>\n",
       "      <td>None</td>\n",
       "    </tr>\n",
       "    <tr>\n",
       "      <th>4</th>\n",
       "      <td>\"Pior presidente do mundo no combate ao corona...</td>\n",
       "      <td>238</td>\n",
       "      <td>1283560152071901185</td>\n",
       "      <td>2020-07-16 00:32:42</td>\n",
       "      <td>Twitter for Advertisers</td>\n",
       "      <td>17163</td>\n",
       "      <td>4444</td>\n",
       "      <td></td>\n",
       "      <td>None</td>\n",
       "      <td>None</td>\n",
       "    </tr>\n",
       "  </tbody>\n",
       "</table>\n",
       "</div>"
      ],
      "text/plain": [
       "                                              Tweets  len  \\\n",
       "0  Não faz sentido excluir identificação biométri...  190   \n",
       "1  Até aqui, estudamos a imunidade de quem se cur...  261   \n",
       "2  Entendo a sua revolta, faz todo sentido. Só ca...  284   \n",
       "3  o coronavirus vendo as pessoa sai sem mascara ...   69   \n",
       "4  \"Pior presidente do mundo no combate ao corona...  238   \n",
       "\n",
       "                    ID                Date                   Source  Likes  \\\n",
       "0  1283389477130571776 2020-07-15 13:14:30       Twitter for iPhone  10739   \n",
       "1  1283480075975958532 2020-07-15 19:14:30          Twitter Web App  21116   \n",
       "2  1283788559846121473 2020-07-16 15:40:18         Tweetbot for Mac  19471   \n",
       "3  1283591600237617152 2020-07-16 02:37:40       Twitter for iPhone   6805   \n",
       "4  1283560152071901185 2020-07-16 00:32:42  Twitter for Advertisers  17163   \n",
       "\n",
       "    RTs User Location   Geo Coordinates  \n",
       "0  3263         Goiás  None        None  \n",
       "1  2780     São Paulo  None        None  \n",
       "2  1715     São Paulo  None        None  \n",
       "3  2016                None        None  \n",
       "4  4444                None        None  "
      ]
     },
     "execution_count": 6,
     "metadata": {},
     "output_type": "execute_result"
    }
   ],
   "source": [
    "tweets_df.head()"
   ]
  },
  {
   "cell_type": "markdown",
   "metadata": {},
   "source": [
    "### Top Tweets"
   ]
  },
  {
   "cell_type": "code",
   "execution_count": 7,
   "metadata": {},
   "outputs": [
    {
     "name": "stdout",
     "output_type": "stream",
     "text": [
      "O tweet com mais curtidas é: \n",
      "Já saiu um estudo da estrutura 3D de um anticorpo neutralizando a proteína chave do coronavírus. Ou seja, já sabemos qual o melhor alvo pra vacinas. Isso é a ciência avançando absurdamente rápido na construção de uma vacina que funcione :)  https://t.co/SYqtdahC9m\n",
      "Número de curtidas: 43969\n",
      "\n",
      "\n",
      "O tweet com mais retweet é: \n",
      "Já saiu um estudo da estrutura 3D de um anticorpo neutralizando a proteína chave do coronavírus. Ou seja, já sabemos qual o melhor alvo pra vacinas. Isso é a ciência avançando absurdamente rápido na construção de uma vacina que funcione :)  https://t.co/SYqtdahC9m\n",
      "Número de retweets: 6260\n"
     ]
    }
   ],
   "source": [
    "fav_max = np.max(tweets_df['Likes'])\n",
    "rt_max  = np.max(tweets_df['RTs'])\n",
    "\n",
    "fav = tweets_df[tweets_df.Likes == fav_max].index[0]\n",
    "rt  = tweets_df[tweets_df.RTs == rt_max].index[0]\n",
    "\n",
    "# Max FAVs:\n",
    "print(\"O tweet com mais curtidas é: \\n{}\".format(tweets_df['Tweets'][fav]))\n",
    "print(\"Número de curtidas: {}\".format(fav_max))\n",
    "print(\"\\n\")\n",
    "# Max RTs:\n",
    "print(\"O tweet com mais retweet é: \\n{}\".format(tweets_df['Tweets'][rt]))\n",
    "print(\"Número de retweets: {}\".format(rt_max))"
   ]
  },
  {
   "cell_type": "markdown",
   "metadata": {},
   "source": [
    "### Modelo de Treinamento"
   ]
  },
  {
   "cell_type": "code",
   "execution_count": 8,
   "metadata": {},
   "outputs": [],
   "source": [
    "#Sentiment Analysis in Português and English\n",
    "\n",
    "base_path = 'ReLi-Lex/'\n",
    "train = []\n",
    "wordsPT = []\n",
    "wordsPT_sentiments = []\n",
    "\n",
    "files = [os.path.join(base_path, f) for f in os.listdir(base_path)]\n",
    "\n",
    "for file in files:\n",
    "    t = 1 if '_Positivos' in file else -1\n",
    "    with open(file, 'r', errors='ignore') as content_file:\n",
    "        content = content_file.read()\n",
    "        all = re.findall('\\[.*?\\]',content)\n",
    "        for w in all:\n",
    "            wordsPT.append((w[1:-1]))\n",
    "            wordsPT_sentiments.append(t)\n",
    "            train.append((w[1:-1], t))\n",
    "\n",
    "cl = NaiveBayesClassifier(train)"
   ]
  },
  {
   "cell_type": "code",
   "execution_count": 9,
   "metadata": {},
   "outputs": [],
   "source": [
    "def clean_tweet(tweet):\n",
    "    return ' '.join(re.sub(\"(@[A-Za-z0-9]+)|([^0-9A-Za-z \\t])|(\\w+:\\/\\/\\S+)\", \" \", tweet).split())"
   ]
  },
  {
   "cell_type": "markdown",
   "metadata": {},
   "source": [
    "# Análise de sentimento do Twitter com NLTK"
   ]
  },
  {
   "cell_type": "markdown",
   "metadata": {},
   "source": [
    "### Modelo de treinamento"
   ]
  },
  {
   "cell_type": "code",
   "execution_count": 10,
   "metadata": {},
   "outputs": [],
   "source": [
    "vectorizer = CountVectorizer(analyzer=\"word\")\n",
    "freq_tweets = vectorizer.fit_transform(wordsPT)\n",
    "modelo = MultinomialNB()\n",
    "modelo.fit(freq_tweets,wordsPT_sentiments);"
   ]
  },
  {
   "cell_type": "markdown",
   "metadata": {},
   "source": [
    "### Análise de sentimento"
   ]
  },
  {
   "cell_type": "code",
   "execution_count": 11,
   "metadata": {},
   "outputs": [],
   "source": [
    "tweetsarray = []\n",
    "\n",
    "for tw in tweets_df['Tweets']:\n",
    "    text = clean_tweet(tw)\n",
    "    tweetsarray.append(text)"
   ]
  },
  {
   "cell_type": "code",
   "execution_count": 12,
   "metadata": {},
   "outputs": [],
   "source": [
    "predictionData = vectorizer.transform(tweets_df['Tweets'])\n",
    "tweets_df['SA NLTK'] = modelo.predict(predictionData)"
   ]
  },
  {
   "cell_type": "code",
   "execution_count": 13,
   "metadata": {},
   "outputs": [],
   "source": [
    "#Sentiment Analysis Results\n",
    "pos_tweets = [ tweet for index, tweet in enumerate(tweets_df['Tweets']) if tweets_df['SA NLTK'][index] > 0]\n",
    "neg_tweets = [ tweet for index, tweet in enumerate(tweets_df['Tweets']) if tweets_df['SA NLTK'][index] < 0]\n",
    "\n",
    "pos_locations = [ location for index, location in enumerate(tweets_df['User Location']) if tweets_df['SA NLTK'][index] > 0]\n",
    "neg_locations = [ location for index, location in enumerate(tweets_df['User Location']) if tweets_df['SA NLTK'][index] < 0]"
   ]
  },
  {
   "cell_type": "markdown",
   "metadata": {},
   "source": [
    "### Mapa dos Tweets"
   ]
  },
  {
   "cell_type": "code",
   "execution_count": 14,
   "metadata": {},
   "outputs": [],
   "source": [
    "\n",
    "geolocator = Nominatim(user_agent=\"TweeterSentiments\")\n",
    "\n",
    "latitude_pos = []\n",
    "longitude_pos = []\n",
    "\n",
    "for user_location in pos_locations:\n",
    "    try:\n",
    "        location = geolocator.geocode(user_location)\n",
    "        latitude_pos.append(location.latitude)\n",
    "        longitude_pos.append(location.longitude)\n",
    "    except:\n",
    "        continue\n",
    "        \n",
    "latitude_neg = []\n",
    "longitude_neg = []\n",
    "\n",
    "for user_location in neg_locations:\n",
    "    try:\n",
    "        location = geolocator.geocode(user_location)\n",
    "        latitude_neg.append(location.latitude)\n",
    "        longitude_neg.append(location.longitude)\n",
    "    except:\n",
    "        continue"
   ]
  },
  {
   "cell_type": "code",
   "execution_count": 15,
   "metadata": {},
   "outputs": [
    {
     "data": {
      "text/html": [
       "<div style=\"width:100%;\"><div style=\"position:relative;width:100%;height:0;padding-bottom:60%;\"><span style=\"color:#565656\">Make this Notebook Trusted to load map: File -> Trust Notebook</span><iframe src=\"about:blank\" style=\"position:absolute;width:100%;height:100%;left:0;top:0;border:none !important;\" data-html=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 onload=\"this.contentDocument.open();this.contentDocument.write(atob(this.getAttribute('data-html')));this.contentDocument.close();\" allowfullscreen webkitallowfullscreen mozallowfullscreen></iframe></div></div>"
      ],
      "text/plain": [
       "<folium.folium.Map at 0x1d1bf958208>"
      ]
     },
     "execution_count": 15,
     "metadata": {},
     "output_type": "execute_result"
    }
   ],
   "source": [
    "coordenadas_pos = np.column_stack((latitude_pos, longitude_pos))\n",
    "coordenadas_neg = np.column_stack((latitude_neg, longitude_neg))\n",
    "\n",
    "mapa = folium.Map(location=[-15.788497,-47.879873],zoom_start=4.)\n",
    "\n",
    "mapa.add_child(plugins.HeatMap(coordenadas_pos, gradient={0:\"gray\", 1:\"blue\"}))\n",
    "mapa.add_child(plugins.HeatMap(coordenadas_neg, gradient={0:\"gray\", 1:\"red\"}))\n",
    "mapa.save('covid.html')\n",
    "mapa"
   ]
  }
 ],
 "metadata": {
  "kernelspec": {
   "display_name": "Python 3",
   "language": "python",
   "name": "python3"
  },
  "language_info": {
   "codemirror_mode": {
    "name": "ipython",
    "version": 3
   },
   "file_extension": ".py",
   "mimetype": "text/x-python",
   "name": "python",
   "nbconvert_exporter": "python",
   "pygments_lexer": "ipython3",
   "version": "3.7.3"
  }
 },
 "nbformat": 4,
 "nbformat_minor": 2
}
